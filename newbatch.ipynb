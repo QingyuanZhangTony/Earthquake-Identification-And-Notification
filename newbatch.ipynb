{
 "cells": [
  {
   "metadata": {},
   "cell_type": "code",
   "outputs": [],
   "execution_count": null,
   "source": [
    "from station_data import *\n",
    "from stream_processing import *\n",
    "from event_detection import *\n",
    "from catalogued_events import *\n",
    "from stream_processing import *\n",
    "import matplotlib.pyplot as plt\n",
    "from obspy import UTCDateTime\n",
    "import torch\n",
    "import sys\n",
    "from report_generation import *\n",
    "import matplotlib.pyplot as plt\n",
    "from obspy import UTCDateTime\n",
    "import torch\n",
    "import sys\n"
   ],
   "id": "bf8101078d315e41"
  },
  {
   "cell_type": "code",
   "id": "initial_id",
   "metadata": {
    "collapsed": true,
    "ExecuteTime": {
     "end_time": "2024-05-06T17:56:08.087625Z",
     "start_time": "2024-05-06T17:56:07.871704Z"
    }
   },
   "source": [
    "denoiser_model = sbm.DeepDenoiser.from_pretrained(\"original\")\n",
    "phase_picking_model = sbm.EQTransformer.from_pretrained(\"original\")\n",
    "station = ['AM','R50D6','https://data.raspberryshake.org']\n",
    "station_coordinates = get_coordinates(station)\n",
    "providers = [\"IRIS\", \"USGS\", \"EMSC\"]\n",
    "\n",
    "# Initialize DataFrame to store results\n",
    "columns = ['date', 'number_catalogued', 'number_matched', 'number_not_detected', 'number_not_in_catalogue', 'number_both_phases_identified']\n",
    "results_df = pd.DataFrame(columns=columns)\n",
    "\n",
    "# Define the date range\n",
    "start_date = datetime.date(2024, 2, 8)\n",
    "end_date = datetime.date.today()\n",
    "\n",
    "# Iterate over each day\n",
    "current_date = start_date"
   ],
   "outputs": [],
   "execution_count": 4
  },
  {
   "metadata": {
    "ExecuteTime": {
     "end_time": "2024-05-06T17:56:19.186997Z",
     "start_time": "2024-05-06T17:56:08.088629Z"
    }
   },
   "cell_type": "code",
   "source": [
    "\n",
    "# Define the path for saving the CSV file\n",
    "output_file = 'earthquake_stats.csv'  # Ensure this points to the correct path where you want the file saved\n",
    "\n",
    "while current_date <= end_date:\n",
    "    date = UTCDateTime(current_date)\n",
    "    date_folder = generate_data_path(date, station)\n",
    "    \n",
    "    try:\n",
    "        stream_file = download_stream(date, station, path=date_folder, overwrite=False)\n",
    "        if not stream_file:\n",
    "            raise FileNotFoundError(\"Stream file not downloaded.\")\n",
    "\n",
    "        original_stream = read(stream_file)\n",
    "        processed_stream = stream_process(original_stream)\n",
    "        denoised_stream = deep_denoiser(processed_stream, denoiser_model)\n",
    "        \n",
    "        df_phase_picked, annotated_stream = predict_and_annotate(denoised_stream, phase_picking_model)\n",
    "        df_phase_picked = df_phase_picked[df_phase_picked['peak_confidence'] >= 0.7]\n",
    "\n",
    "        catalogue_path = request_catalogue(\n",
    "            catalogue_providers=providers,\n",
    "            station_information=station,\n",
    "            station_location=station_coordinates,\n",
    "            date=date,\n",
    "            radmin=0,\n",
    "            radmax=90,\n",
    "            minmag=3,\n",
    "            maxmag=10,\n",
    "            path=date_folder,\n",
    "            overwrite=True\n",
    "        )\n",
    "\n",
    "        if not catalogue_path:\n",
    "            raise FileNotFoundError(\"Catalogue file not downloaded.\")\n",
    "\n",
    "        catalogue = load_earthquake_catalog(catalogue_path)\n",
    "        df_catalogued = process_catalogue(catalogue, station_coordinates)\n",
    "        result_df = match_and_merge(df_catalogued, df_phase_picked, time_tolerance=10)\n",
    "        stats = calculate_matching_stats(result_df)\n",
    "\n",
    "        # Create a new DataFrame for the current day's results\n",
    "        day_results = pd.DataFrame({\n",
    "            'date': [current_date.strftime('%Y-%m-%d')],\n",
    "            'number_catalogued': [stats[0]],\n",
    "            'number_matched': [stats[1]],\n",
    "            'number_not_detected': [stats[2]],\n",
    "            'number_not_in_catalogue': [stats[3]],\n",
    "            'number_both_phases_identified': [stats[4]]\n",
    "        })\n",
    "        results_df = pd.concat([results_df, day_results], ignore_index=True)\n",
    "        \n",
    "        # Save results to CSV after each successful loop iteration\n",
    "        results_df.to_csv(output_file, mode='a', header=False, index=False)\n",
    "\n",
    "    except FileNotFoundError as e:\n",
    "        print(f\"Skipping {current_date.strftime('%Y-%m-%d')}: {str(e)}\")\n",
    "\n",
    "    # Move to the next day\n",
    "    print(\"Day processed: \", current_date.strftime('%Y-%m-%d'))\n",
    "    current_date += datetime.timedelta(days=1)\n",
    "\n",
    "print(\"Completed. Results saved to 'earthquake_stats.csv'.\")\n"
   ],
   "id": "7679af046baabd72",
   "outputs": [
    {
     "name": "stdout",
     "output_type": "stream",
     "text": [
      "Data for 2024-02-08 already exist.\n",
      "CUDA available. Running on GPU\n",
      "CUDA available. Running on GPU\n"
     ]
    },
    {
     "ename": "KeyboardInterrupt",
     "evalue": "",
     "output_type": "error",
     "traceback": [
      "\u001B[1;31m---------------------------------------------------------------------------\u001B[0m",
      "\u001B[1;31mKeyboardInterrupt\u001B[0m                         Traceback (most recent call last)",
      "Cell \u001B[1;32mIn[5], line 17\u001B[0m\n\u001B[0;32m     14\u001B[0m processed_stream \u001B[38;5;241m=\u001B[39m stream_process(original_stream)\n\u001B[0;32m     15\u001B[0m denoised_stream \u001B[38;5;241m=\u001B[39m deep_denoiser(processed_stream, denoiser_model)\n\u001B[1;32m---> 17\u001B[0m df_phase_picked, annotated_stream \u001B[38;5;241m=\u001B[39m \u001B[43mpredict_and_annotate\u001B[49m\u001B[43m(\u001B[49m\u001B[43mdenoised_stream\u001B[49m\u001B[43m,\u001B[49m\u001B[43m \u001B[49m\u001B[43mphase_picking_model\u001B[49m\u001B[43m)\u001B[49m\n\u001B[0;32m     18\u001B[0m df_phase_picked \u001B[38;5;241m=\u001B[39m df_phase_picked[df_phase_picked[\u001B[38;5;124m'\u001B[39m\u001B[38;5;124mpeak_confidence\u001B[39m\u001B[38;5;124m'\u001B[39m] \u001B[38;5;241m>\u001B[39m\u001B[38;5;241m=\u001B[39m \u001B[38;5;241m0.7\u001B[39m]\n\u001B[0;32m     20\u001B[0m catalogue_path \u001B[38;5;241m=\u001B[39m request_catalogue(\n\u001B[0;32m     21\u001B[0m     catalogue_providers\u001B[38;5;241m=\u001B[39mproviders,\n\u001B[0;32m     22\u001B[0m     station_information\u001B[38;5;241m=\u001B[39mstation,\n\u001B[1;32m   (...)\u001B[0m\n\u001B[0;32m     30\u001B[0m     overwrite\u001B[38;5;241m=\u001B[39m\u001B[38;5;28;01mTrue\u001B[39;00m\n\u001B[0;32m     31\u001B[0m )\n",
      "File \u001B[1;32mD:\\Dissertation\\EventIdentification.py:67\u001B[0m, in \u001B[0;36mpredict_and_annotate\u001B[1;34m(stream, model)\u001B[0m\n\u001B[0;32m     64\u001B[0m     \u001B[38;5;28;01mif\u001B[39;00m \u001B[38;5;28mlen\u001B[39m(parts) \u001B[38;5;241m>\u001B[39m \u001B[38;5;241m1\u001B[39m:\n\u001B[0;32m     65\u001B[0m         tr\u001B[38;5;241m.\u001B[39mstats\u001B[38;5;241m.\u001B[39mchannel \u001B[38;5;241m=\u001B[39m \u001B[38;5;124m'\u001B[39m\u001B[38;5;124m_\u001B[39m\u001B[38;5;124m'\u001B[39m \u001B[38;5;241m+\u001B[39m \u001B[38;5;124m'\u001B[39m\u001B[38;5;124m_\u001B[39m\u001B[38;5;124m'\u001B[39m\u001B[38;5;241m.\u001B[39mjoin(parts[\u001B[38;5;241m1\u001B[39m:])  \u001B[38;5;66;03m# Join parts starting from the first underscore\u001B[39;00m\n\u001B[1;32m---> 67\u001B[0m \u001B[38;5;28;01mreturn\u001B[39;00m df_picks, annotated_stream\n",
      "File \u001B[1;32m~\\anaconda3\\envs\\gputest\\Lib\\site-packages\\seisbench\\models\\base.py:895\u001B[0m, in \u001B[0;36mWaveformModel.annotate\u001B[1;34m(self, stream, copy, **kwargs)\u001B[0m\n\u001B[0;32m    890\u001B[0m     seisbench\u001B[38;5;241m.\u001B[39mlogger\u001B[38;5;241m.\u001B[39mwarning(\n\u001B[0;32m    891\u001B[0m         \u001B[38;5;124m\"\u001B[39m\u001B[38;5;124mThe `parallelism` argument has been deprecated in favour of batch processing.\u001B[39m\u001B[38;5;124m\"\u001B[39m\n\u001B[0;32m    892\u001B[0m     )\n\u001B[0;32m    894\u001B[0m call \u001B[38;5;241m=\u001B[39m \u001B[38;5;28mself\u001B[39m\u001B[38;5;241m.\u001B[39mannotate_async(stream, copy\u001B[38;5;241m=\u001B[39mcopy, \u001B[38;5;241m*\u001B[39m\u001B[38;5;241m*\u001B[39mkwargs)\n\u001B[1;32m--> 895\u001B[0m \u001B[38;5;28;01mreturn\u001B[39;00m \u001B[43masyncio\u001B[49m\u001B[38;5;241;43m.\u001B[39;49m\u001B[43mrun\u001B[49m\u001B[43m(\u001B[49m\u001B[43mcall\u001B[49m\u001B[43m)\u001B[49m\n",
      "File \u001B[1;32m~\\anaconda3\\envs\\gputest\\Lib\\site-packages\\nest_asyncio.py:30\u001B[0m, in \u001B[0;36m_patch_asyncio.<locals>.run\u001B[1;34m(main, debug)\u001B[0m\n\u001B[0;32m     28\u001B[0m task \u001B[38;5;241m=\u001B[39m asyncio\u001B[38;5;241m.\u001B[39mensure_future(main)\n\u001B[0;32m     29\u001B[0m \u001B[38;5;28;01mtry\u001B[39;00m:\n\u001B[1;32m---> 30\u001B[0m     \u001B[38;5;28;01mreturn\u001B[39;00m \u001B[43mloop\u001B[49m\u001B[38;5;241;43m.\u001B[39;49m\u001B[43mrun_until_complete\u001B[49m\u001B[43m(\u001B[49m\u001B[43mtask\u001B[49m\u001B[43m)\u001B[49m\n\u001B[0;32m     31\u001B[0m \u001B[38;5;28;01mfinally\u001B[39;00m:\n\u001B[0;32m     32\u001B[0m     \u001B[38;5;28;01mif\u001B[39;00m \u001B[38;5;129;01mnot\u001B[39;00m task\u001B[38;5;241m.\u001B[39mdone():\n",
      "File \u001B[1;32m~\\anaconda3\\envs\\gputest\\Lib\\site-packages\\nest_asyncio.py:92\u001B[0m, in \u001B[0;36m_patch_loop.<locals>.run_until_complete\u001B[1;34m(self, future)\u001B[0m\n\u001B[0;32m     90\u001B[0m     f\u001B[38;5;241m.\u001B[39m_log_destroy_pending \u001B[38;5;241m=\u001B[39m \u001B[38;5;28;01mFalse\u001B[39;00m\n\u001B[0;32m     91\u001B[0m \u001B[38;5;28;01mwhile\u001B[39;00m \u001B[38;5;129;01mnot\u001B[39;00m f\u001B[38;5;241m.\u001B[39mdone():\n\u001B[1;32m---> 92\u001B[0m     \u001B[38;5;28;43mself\u001B[39;49m\u001B[38;5;241;43m.\u001B[39;49m\u001B[43m_run_once\u001B[49m\u001B[43m(\u001B[49m\u001B[43m)\u001B[49m\n\u001B[0;32m     93\u001B[0m     \u001B[38;5;28;01mif\u001B[39;00m \u001B[38;5;28mself\u001B[39m\u001B[38;5;241m.\u001B[39m_stopping:\n\u001B[0;32m     94\u001B[0m         \u001B[38;5;28;01mbreak\u001B[39;00m\n",
      "File \u001B[1;32m~\\anaconda3\\envs\\gputest\\Lib\\site-packages\\nest_asyncio.py:115\u001B[0m, in \u001B[0;36m_patch_loop.<locals>._run_once\u001B[1;34m(self)\u001B[0m\n\u001B[0;32m    108\u001B[0m     heappop(scheduled)\n\u001B[0;32m    110\u001B[0m timeout \u001B[38;5;241m=\u001B[39m (\n\u001B[0;32m    111\u001B[0m     \u001B[38;5;241m0\u001B[39m \u001B[38;5;28;01mif\u001B[39;00m ready \u001B[38;5;129;01mor\u001B[39;00m \u001B[38;5;28mself\u001B[39m\u001B[38;5;241m.\u001B[39m_stopping\n\u001B[0;32m    112\u001B[0m     \u001B[38;5;28;01melse\u001B[39;00m \u001B[38;5;28mmin\u001B[39m(\u001B[38;5;28mmax\u001B[39m(\n\u001B[0;32m    113\u001B[0m         scheduled[\u001B[38;5;241m0\u001B[39m]\u001B[38;5;241m.\u001B[39m_when \u001B[38;5;241m-\u001B[39m \u001B[38;5;28mself\u001B[39m\u001B[38;5;241m.\u001B[39mtime(), \u001B[38;5;241m0\u001B[39m), \u001B[38;5;241m86400\u001B[39m) \u001B[38;5;28;01mif\u001B[39;00m scheduled\n\u001B[0;32m    114\u001B[0m     \u001B[38;5;28;01melse\u001B[39;00m \u001B[38;5;28;01mNone\u001B[39;00m)\n\u001B[1;32m--> 115\u001B[0m event_list \u001B[38;5;241m=\u001B[39m \u001B[38;5;28;43mself\u001B[39;49m\u001B[38;5;241;43m.\u001B[39;49m\u001B[43m_selector\u001B[49m\u001B[38;5;241;43m.\u001B[39;49m\u001B[43mselect\u001B[49m\u001B[43m(\u001B[49m\u001B[43mtimeout\u001B[49m\u001B[43m)\u001B[49m\n\u001B[0;32m    116\u001B[0m \u001B[38;5;28mself\u001B[39m\u001B[38;5;241m.\u001B[39m_process_events(event_list)\n\u001B[0;32m    118\u001B[0m end_time \u001B[38;5;241m=\u001B[39m \u001B[38;5;28mself\u001B[39m\u001B[38;5;241m.\u001B[39mtime() \u001B[38;5;241m+\u001B[39m \u001B[38;5;28mself\u001B[39m\u001B[38;5;241m.\u001B[39m_clock_resolution\n",
      "File \u001B[1;32m~\\anaconda3\\envs\\gputest\\Lib\\selectors.py:323\u001B[0m, in \u001B[0;36mSelectSelector.select\u001B[1;34m(self, timeout)\u001B[0m\n\u001B[0;32m    321\u001B[0m ready \u001B[38;5;241m=\u001B[39m []\n\u001B[0;32m    322\u001B[0m \u001B[38;5;28;01mtry\u001B[39;00m:\n\u001B[1;32m--> 323\u001B[0m     r, w, _ \u001B[38;5;241m=\u001B[39m \u001B[38;5;28;43mself\u001B[39;49m\u001B[38;5;241;43m.\u001B[39;49m\u001B[43m_select\u001B[49m\u001B[43m(\u001B[49m\u001B[38;5;28;43mself\u001B[39;49m\u001B[38;5;241;43m.\u001B[39;49m\u001B[43m_readers\u001B[49m\u001B[43m,\u001B[49m\u001B[43m \u001B[49m\u001B[38;5;28;43mself\u001B[39;49m\u001B[38;5;241;43m.\u001B[39;49m\u001B[43m_writers\u001B[49m\u001B[43m,\u001B[49m\u001B[43m \u001B[49m\u001B[43m[\u001B[49m\u001B[43m]\u001B[49m\u001B[43m,\u001B[49m\u001B[43m \u001B[49m\u001B[43mtimeout\u001B[49m\u001B[43m)\u001B[49m\n\u001B[0;32m    324\u001B[0m \u001B[38;5;28;01mexcept\u001B[39;00m \u001B[38;5;167;01mInterruptedError\u001B[39;00m:\n\u001B[0;32m    325\u001B[0m     \u001B[38;5;28;01mreturn\u001B[39;00m ready\n",
      "File \u001B[1;32m~\\anaconda3\\envs\\gputest\\Lib\\selectors.py:314\u001B[0m, in \u001B[0;36mSelectSelector._select\u001B[1;34m(self, r, w, _, timeout)\u001B[0m\n\u001B[0;32m    313\u001B[0m \u001B[38;5;28;01mdef\u001B[39;00m \u001B[38;5;21m_select\u001B[39m(\u001B[38;5;28mself\u001B[39m, r, w, _, timeout\u001B[38;5;241m=\u001B[39m\u001B[38;5;28;01mNone\u001B[39;00m):\n\u001B[1;32m--> 314\u001B[0m     r, w, x \u001B[38;5;241m=\u001B[39m \u001B[43mselect\u001B[49m\u001B[38;5;241;43m.\u001B[39;49m\u001B[43mselect\u001B[49m\u001B[43m(\u001B[49m\u001B[43mr\u001B[49m\u001B[43m,\u001B[49m\u001B[43m \u001B[49m\u001B[43mw\u001B[49m\u001B[43m,\u001B[49m\u001B[43m \u001B[49m\u001B[43mw\u001B[49m\u001B[43m,\u001B[49m\u001B[43m \u001B[49m\u001B[43mtimeout\u001B[49m\u001B[43m)\u001B[49m\n\u001B[0;32m    315\u001B[0m     \u001B[38;5;28;01mreturn\u001B[39;00m r, w \u001B[38;5;241m+\u001B[39m x, []\n",
      "\u001B[1;31mKeyboardInterrupt\u001B[0m: "
     ]
    }
   ],
   "execution_count": 5
  }
 ],
 "metadata": {
  "kernelspec": {
   "display_name": "Python 3",
   "language": "python",
   "name": "python3"
  },
  "language_info": {
   "codemirror_mode": {
    "name": "ipython",
    "version": 2
   },
   "file_extension": ".py",
   "mimetype": "text/x-python",
   "name": "python",
   "nbconvert_exporter": "python",
   "pygments_lexer": "ipython2",
   "version": "2.7.6"
  }
 },
 "nbformat": 4,
 "nbformat_minor": 5
}
