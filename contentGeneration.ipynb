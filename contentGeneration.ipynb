{
 "cells": [
  {
   "cell_type": "code",
   "id": "initial_id",
   "metadata": {
    "collapsed": true,
    "ExecuteTime": {
     "end_time": "2024-05-05T22:28:42.097414Z",
     "start_time": "2024-05-05T22:28:39.925463Z"
    }
   },
   "source": [
    "from DataDownload import *\n",
    "from PreProcessing import *\n",
    "from EventIdentification import *\n",
    "from CataloguedEvents import *\n",
    "from PostProcessing import *\n",
    "import matplotlib.pyplot as plt\n",
    "from obspy import UTCDateTime\n",
    "import torch\n",
    "import sys\n",
    "from ReportGeneration import *"
   ],
   "outputs": [],
   "execution_count": 1
  },
  {
   "metadata": {},
   "cell_type": "markdown",
   "source": "Initiating Parameters for Report Content Generation",
   "id": "7b7ff2f13d212b"
  },
  {
   "metadata": {
    "ExecuteTime": {
     "end_time": "2024-05-05T22:28:42.101325Z",
     "start_time": "2024-05-05T22:28:42.098419Z"
    }
   },
   "cell_type": "code",
   "source": [
    "# Set date and station for studying423\n",
    "date = UTCDateTime(\"2024-04-23\") \n",
    "station = ['AM','R50D6','https://data.raspberryshake.org']\n",
    "\n",
    "# Generate a path for all files to be saved to\n",
    "date_folder = generate_data_path(date, station)\n",
    "content_path = os.path.join(date_folder, \"generated\")\n",
    "os.makedirs(content_path, exist_ok=True)"
   ],
   "id": "f5e9bae12d7d6f85",
   "outputs": [],
   "execution_count": 2
  },
  {
   "metadata": {},
   "cell_type": "markdown",
   "source": "Reading Saved Files",
   "id": "70761a08a5ebc163"
  },
  {
   "metadata": {
    "ExecuteTime": {
     "end_time": "2024-05-05T22:28:42.344870Z",
     "start_time": "2024-05-05T22:28:42.101325Z"
    }
   },
   "cell_type": "code",
   "source": [
    "saved_catalogue, provider = read_catalogue_file(date_folder)\n",
    "saved_df_completed = read_csv_from_path(date_folder, date, station, 'completed')\n",
    "saved_processed_stream = read_stream_from_path(date_folder, date, station, 'processed')\n",
    "saved_annotated_stream = read_stream_from_path(date_folder, date, station, 'processed.annotated')"
   ],
   "id": "b258299a1c9dc7a7",
   "outputs": [
    {
     "name": "stdout",
     "output_type": "stream",
     "text": [
      "Loaded data from D:\\Dissertation\\data\\AM.R50D6\\2024-04-23\\2024-04-23_IRIS.catalogue.xml\n",
      "Loaded data from D:\\Dissertation\\data\\AM.R50D6\\2024-04-23\\2024-04-23.completed.csv\n",
      "Loaded stream from D:\\Dissertation\\data\\AM.R50D6\\2024-04-23\\2024-04-23_AM.R50D6..Z.processed.mseed\n",
      "Loaded stream from D:\\Dissertation\\data\\AM.R50D6\\2024-04-23\\2024-04-23_AM.R50D6..Z.processed.annotated.mseed\n"
     ]
    }
   ],
   "execution_count": 3
  },
  {
   "metadata": {},
   "cell_type": "markdown",
   "source": "Save Catalogue Globe Plot To File",
   "id": "c570162a0677609b"
  },
  {
   "metadata": {
    "ExecuteTime": {
     "end_time": "2024-05-05T22:28:43.914713Z",
     "start_time": "2024-05-05T22:28:42.344870Z"
    }
   },
   "cell_type": "code",
   "source": "plot_catalogue(saved_catalogue,station, date,  fill_map = True, path=content_path,show=True, save=True);",
   "id": "de1dd61130dcb0d1",
   "outputs": [
    {
     "name": "stdout",
     "output_type": "stream",
     "text": [
      "Saved plot to D:\\Dissertation\\data\\AM.R50D6\\2024-04-23\\generated\\catalogued_plot_2024-04-23.png\n"
     ]
    },
    {
     "data": {
      "text/plain": [
       "<Figure size 640x480 with 0 Axes>"
      ]
     },
     "metadata": {},
     "output_type": "display_data"
    }
   ],
   "execution_count": 4
  },
  {
   "metadata": {},
   "cell_type": "markdown",
   "source": "Save Wave+Annotation Plots For Matched Events To File Using Event ID",
   "id": "b4ef65bb4fa76865"
  },
  {
   "metadata": {
    "ExecuteTime": {
     "end_time": "2024-05-05T22:28:45.509409Z",
     "start_time": "2024-05-05T22:28:43.914713Z"
    }
   },
   "cell_type": "code",
   "source": [
    "matched_events = saved_df_completed[(saved_df_completed['catalogued'] == True) & (saved_df_completed['detected'] == True)]\n",
    "\n",
    "for _, row in matched_events.iterrows():\n",
    "    earthquake_info = get_event_info(row)  \n",
    "    \n",
    "    if matched_events.empty:\n",
    "        continue\n",
    "    plot_predictions_wave(saved_processed_stream,saved_annotated_stream, earthquake_info, path=content_path,show=False, save=True)"
   ],
   "id": "bf004c77d6cf1334",
   "outputs": [
    {
     "name": "stdout",
     "output_type": "stream",
     "text": [
      "Saved plot to D:\\Dissertation\\data\\AM.R50D6\\2024-04-23\\generated\\annotation_11832031.png\n",
      "Saved plot to D:\\Dissertation\\data\\AM.R50D6\\2024-04-23\\generated\\annotation_11831877.png\n"
     ]
    }
   ],
   "execution_count": 5
  },
  {
   "metadata": {},
   "cell_type": "markdown",
   "source": "Statistics For Matched Events",
   "id": "c9d7f13620073e94"
  },
  {
   "metadata": {
    "ExecuteTime": {
     "end_time": "2024-05-05T22:28:45.513546Z",
     "start_time": "2024-05-05T22:28:45.509409Z"
    }
   },
   "cell_type": "code",
   "source": [
    "for _, row in matched_events.iterrows():\n",
    "    earthquake_info = get_event_info(row)  \n",
    "    \n",
    "    if matched_events.empty:\n",
    "        continue\n",
    "    print_event_statistics(earthquake_info)"
   ],
   "id": "94ebdb0aee42461",
   "outputs": [
    {
     "name": "stdout",
     "output_type": "stream",
     "text": [
      "Event ID: smi:service.iris.edu/fdsnws/event/1/query?eventid=11832031\n",
      "Earthquake Time: 2024-04-23T13:05:39.336000\n",
      "Location: Lat 50.0999, Long -28.9704\n",
      "Magnitude: 5.0 mww\n",
      "Depth: 9121.0 m\n",
      "Distance to Station: 1921.27 km\n",
      "\n",
      "Predicted P time: 2024-04-23T13:09:42.848903\n",
      "Detected P time: 2024-04-23T13:09:48.950000\n",
      "Predicted S time: 2024-04-23T13:13:21.000711\n",
      "Detected S time: nan\n",
      "Prediction confidence: P: 0.7034019827842712   S: None\n",
      "----------------------------------------\n",
      "Event ID: smi:service.iris.edu/fdsnws/event/1/query?eventid=11831877\n",
      "Earthquake Time: 2024-04-23T02:20:59.691000\n",
      "Location: Lat 23.8259, Long 121.6333\n",
      "Magnitude: 5.2 Mwr\n",
      "Depth: 10000.0 m\n",
      "Distance to Station: 9764.02 km\n",
      "\n",
      "Predicted P time: 2024-04-23T02:33:49.058574\n",
      "Detected P time: 2024-04-23T02:33:40.040000\n",
      "Predicted S time: 2024-04-23T02:44:32.124338\n",
      "Detected S time: nan\n",
      "Prediction confidence: P: 0.8594319820404053   S: None\n",
      "----------------------------------------\n"
     ]
    }
   ],
   "execution_count": 6
  },
  {
   "metadata": {
    "ExecuteTime": {
     "end_time": "2024-05-05T22:35:34.766817Z",
     "start_time": "2024-05-05T22:35:34.761027Z"
    }
   },
   "cell_type": "code",
   "source": [
    "def create_earthquake_report_html(matched_events, base_image_path, date, station, catalogue_provider):\n",
    "    network, station_code, _ = station\n",
    "    date_str = date.strftime('%Y-%m-%d')\n",
    "    output_html_file = os.path.join(base_image_path, f\"{date_str}_report.html\")\n",
    "    catalog_image_filename = f\"catalogued_plot_{date_str}.png\"  # Use filename instead of path\n",
    "\n",
    "    html_content = f\"\"\"\n",
    "    <html>\n",
    "    <head>\n",
    "        <title>Earthquake Report for {date_str}</title>\n",
    "        <style>\n",
    "            body {{ font-family: Arial, sans-serif; }}\n",
    "            .event {{ margin-bottom: 40px; }}\n",
    "            .event img {{ width: 100%; max-width: 600px; }}\n",
    "            .catalogue_plot img {{ width: 100%; max-width: 650px; }}\n",
    "            .statistics {{ margin-top: 5px; }}\n",
    "        </style>\n",
    "    </head>\n",
    "    <body>\n",
    "        <h1>Earthquake Report for {date_str}</h1>\n",
    "        <p><strong>Station:</strong> {network}.{station_code}</p>\n",
    "        <p><strong>Catalogue Provider:</strong> {catalogue_provider}</p>\n",
    "        </br>\n",
    "        </br>\n",
    "        \n",
    "        <div class=\"catalogue_plot\">\n",
    "            <p><strong>Catalogued Events:</strong></p>\n",
    "            <img src=\"{catalog_image_filename}\" alt=\"Catalogue Overview Map\">  <!-- Use filename here -->\n",
    "        </div>\n",
    "        </br>\n",
    "        </br>\n",
    "        <p><strong>Detected Events From Catalogue:</strong></p>\n",
    "    \"\"\"\n",
    "    \n",
    "    for _, row in matched_events.iterrows():\n",
    "        earthquake_info = get_event_info(row)\n",
    "        image_filename = f\"annotation_{earthquake_info['event_id']}.png\"  # Use filename instead of path\n",
    "\n",
    "        statistics_text = f\"\"\"\n",
    "        <div class=\"event\">\n",
    "            <img src=\"{image_filename}\" alt=\"Earthquake Event {earthquake_info['event_id']}\">  <!-- Use filename here -->\n",
    "            <div class=\"statistics\">\n",
    "                <p>Event ID: {earthquake_info['full_id']}</p>\n",
    "                <p>Earthquake Time: {earthquake_info['time']}</p>\n",
    "                <p>Location: Lat {earthquake_info['lat']}, Long {earthquake_info['long']}</p>\n",
    "                <p>Magnitude: {earthquake_info['mag']} {earthquake_info['mag_type']}</p>\n",
    "                <p>Depth: {earthquake_info['depth']} m</p>\n",
    "                <p>Distance to Station: {earthquake_info['epi_distance']:.2f} km</p>\n",
    "                <p>Prediction confidence: P: {earthquake_info.get('P_peak_confidence', 'N/A')}   S: {earthquake_info.get('S_peak_confidence', 'N/A')}</p>\n",
    "                <p>Predicted P time: {earthquake_info.get('predicted_p_time', 'N/A')}</p>\n",
    "                <p>Predicted S time: {earthquake_info.get('predicted_s_time', 'N/A')}</p>\n",
    "                <p>Detected P time: {earthquake_info.get('detected_p_time', 'N/A')}</p>\n",
    "                <p>Detected S time: {earthquake_info.get('detected_s_time', 'N/A')}</p>\n",
    "            </div>\n",
    "        </div>\n",
    "        \"\"\"\n",
    "        html_content += statistics_text\n",
    "\n",
    "    html_content += \"\"\"\n",
    "    </body>\n",
    "    </html>\n",
    "    \"\"\"\n",
    "\n",
    "    with open(output_html_file, 'w') as file:\n",
    "        file.write(html_content)\n",
    "    print(f\"HTML report generated: {output_html_file}\")\n"
   ],
   "id": "79966bdefae3bce8",
   "outputs": [],
   "execution_count": 13
  },
  {
   "metadata": {
    "ExecuteTime": {
     "end_time": "2024-05-05T22:35:36.022559Z",
     "start_time": "2024-05-05T22:35:36.019224Z"
    }
   },
   "cell_type": "code",
   "source": "create_earthquake_report_html(matched_events, content_path, date, station, provider)",
   "id": "50affeb2b396f57",
   "outputs": [
    {
     "name": "stdout",
     "output_type": "stream",
     "text": [
      "HTML report generated: D:\\Dissertation\\data\\AM.R50D6\\2024-04-23\\generated\\2024-04-23_report.html\n"
     ]
    }
   ],
   "execution_count": 14
  }
 ],
 "metadata": {
  "kernelspec": {
   "display_name": "Python 3",
   "language": "python",
   "name": "python3"
  },
  "language_info": {
   "codemirror_mode": {
    "name": "ipython",
    "version": 2
   },
   "file_extension": ".py",
   "mimetype": "text/x-python",
   "name": "python",
   "nbconvert_exporter": "python",
   "pygments_lexer": "ipython2",
   "version": "2.7.6"
  }
 },
 "nbformat": 4,
 "nbformat_minor": 5
}
